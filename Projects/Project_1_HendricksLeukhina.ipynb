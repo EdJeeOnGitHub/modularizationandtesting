{
 "cells": [
  {
   "cell_type": "code",
   "execution_count": 3,
   "metadata": {},
   "outputs": [],
   "source": [
    "import matplotlib.pyplot as plt\n",
    "import numpy as np\n",
    "import scipy.stats as st\n",
    "\n",
    "import transcripty as tpy\n",
    "\n",
    "%matplotlib inline"
   ]
  },
  {
   "cell_type": "markdown",
   "metadata": {},
   "source": [
    "# How risky is college investment?\n",
    "\n",
    "This project is meant to highlight the importance of packaging your code nicely so that\n",
    "others can build upon your work.\n",
    "\n",
    "In my own research, I benefited that the authors of this paper, Lutz Hendricks and Oksana\n",
    "Leukhina, provided their code and data in a relatively usable format. We hope that after\n",
    "the next few days of instruction, you will be prepared to do an even better job at\n",
    "packaging your research in an easily replicable and repeatable format.\n",
    "\n",
    "We have written two versions of a Python package that contains the code needed to\n",
    "replicate elements Section 2 in their paper. You will be asked to explore some of the\n",
    "implications of their model using this code.\n"
   ]
  },
  {
   "cell_type": "markdown",
   "metadata": {},
   "source": [
    "## Simple model of college credit accumulation\n",
    "\n",
    "In this paper, the authors are interested in \"quantifying the the relative importance of heterogeneity and uncertainty for college dropout decisions.\" One of their innovations beyond what previous work has done is they have a more explicit model of college enrollment, credit accumulation, and dropout decisions.\n",
    "\n",
    "Prior to presenting their full model, the authors use a simple model that only deals with credit accumulation to motivate some of the modeling decisions they make in later sections of the paper. We will focus only on this simple model.\n",
    "\n",
    "### Individual's problem\n",
    "\n",
    "We describe a single individual's problem.\n",
    "\n",
    "The individual begins as a college freshman.\n",
    "\n",
    "They begin their college career at $t=1$ with 0 college credits, $n_0 = 0$\n",
    "\n",
    "* The student draws an ability level, $a \\sim N(0, 1)$\n",
    "* And a noisy signal of that ability given by $\\text{GPA} = a + \\varepsilon$ where $\\varepsilon \\sim N(0, \\sigma_\\varepsilon^2)$.\n",
    "\n",
    "Each year a student attempts to complete $n_{\\text{courses}} = 12$ that are each worth $n_{\\text{credits}} = 3$.\n",
    "\n",
    "The probability that a student successfully passes any given course is given by\n",
    "\n",
    "$$p(a_i) = \\gamma_{\\text{min}} + \\frac{1 - \\gamma_{\\text{min}}}{1 + \\gamma_1 \\exp^{-\\gamma_2 a_i}}$$\n",
    "\n",
    "A student is awarded a degree once they have accumulated 125 credits (completed 42 courses).\n",
    "\n",
    "If a student fails to collect a degree after 6 years, they drop out of college.\n",
    "\n",
    "### Data\n",
    "\n",
    "The authors use data from a proprietary microdata from the High School and Beyond survey\n",
    "administered by the National Center for Education Statistics (NCES) which includes\n",
    "information on a student's HS GPA, college transcript information, and financial\n",
    "resources to calibrate their model.\n",
    "\n"
   ]
  },
  {
   "cell_type": "markdown",
   "metadata": {},
   "source": [
    "## Exploration Exercise\n",
    "\n",
    "The code that replicates the outcomes from Hendricks Leukhina can be found on Github at https://www.github.com/cc7768/transcripty.\n",
    "\n",
    "If you were assigned to an odd numbered group, then you should work off of the `group_odd` branch and if you were assigned to an even numbered group, then you should off of the `group_even` branch.\n",
    "\n",
    "\n",
    "Once you've downloaded the repository and switched to the appropriate branch, you can install the package by entering its folder in a terminal and running `python setup.py install`. You should then be able to work from this notebook and just import the package contents like a normal package i.e., `import transcripty as tpy` (as done at top of the notebook).\n"
   ]
  },
  {
   "cell_type": "markdown",
   "metadata": {},
   "source": [
    "### Exercise 1\n",
    "\n"
   ]
  },
  {
   "cell_type": "markdown",
   "metadata": {},
   "source": [
    "### Exercise 2"
   ]
  },
  {
   "cell_type": "markdown",
   "metadata": {},
   "source": [
    "### Exercise 3"
   ]
  }
 ],
 "metadata": {
  "@webio": {
   "lastCommId": "de01cf3b573b4b7b97706756cba00709",
   "lastKernelId": "13d35c3c-fb94-4b73-8601-0bfad95b3804"
  },
  "kernelspec": {
   "display_name": "Python 3",
   "language": "python",
   "name": "python3"
  },
  "language_info": {
   "codemirror_mode": {
    "name": "ipython",
    "version": 3
   },
   "file_extension": ".py",
   "mimetype": "text/x-python",
   "name": "python",
   "nbconvert_exporter": "python",
   "pygments_lexer": "ipython3",
   "version": "3.7.4"
  }
 },
 "nbformat": 4,
 "nbformat_minor": 2
}
